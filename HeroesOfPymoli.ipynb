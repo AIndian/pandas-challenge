{
 "cells": [
  {
   "cell_type": "markdown",
   "metadata": {},
   "source": [
    "### Note\n",
    "* Instructions have been included for each segment. You do not have to follow them exactly, but they are included to help you think through the steps."
   ]
  },
  {
   "cell_type": "code",
   "execution_count": 1,
   "metadata": {},
   "outputs": [],
   "source": [
    "# Dependencies and Setup\n",
    "import pandas as pd\n",
    "\n",
    "# File to Load (Remember to Change These)\n",
    "file_to_load = \"Resources/purchase_data.csv\"\n",
    "\n",
    "# Read Purchasing File and store into Pandas data frame\n",
    "purchase_data = pd.read_csv(file_to_load)"
   ]
  },
  {
   "cell_type": "markdown",
   "metadata": {},
   "source": [
    "## Player Count"
   ]
  },
  {
   "cell_type": "markdown",
   "metadata": {},
   "source": [
    "* Display the total number of players\n"
   ]
  },
  {
   "cell_type": "code",
   "execution_count": 2,
   "metadata": {},
   "outputs": [
    {
     "data": {
      "text/html": [
       "<div>\n",
       "<style scoped>\n",
       "    .dataframe tbody tr th:only-of-type {\n",
       "        vertical-align: middle;\n",
       "    }\n",
       "\n",
       "    .dataframe tbody tr th {\n",
       "        vertical-align: top;\n",
       "    }\n",
       "\n",
       "    .dataframe thead th {\n",
       "        text-align: right;\n",
       "    }\n",
       "</style>\n",
       "<table border=\"1\" class=\"dataframe\">\n",
       "  <thead>\n",
       "    <tr style=\"text-align: right;\">\n",
       "      <th></th>\n",
       "      <th>Total Players</th>\n",
       "    </tr>\n",
       "  </thead>\n",
       "  <tbody>\n",
       "    <tr>\n",
       "      <th>0</th>\n",
       "      <td>576</td>\n",
       "    </tr>\n",
       "  </tbody>\n",
       "</table>\n",
       "</div>"
      ],
      "text/plain": [
       "   Total Players\n",
       "0            576"
      ]
     },
     "execution_count": 2,
     "metadata": {},
     "output_type": "execute_result"
    }
   ],
   "source": [
    "#Num players based on unique SN\n",
    "numPlayers = int(len(purchase_data[\"SN\"].unique()))\n",
    "totalPlayers_df = pd.DataFrame({\"Total Players\": [numPlayers]})\n",
    "totalPlayers_df"
   ]
  },
  {
   "cell_type": "markdown",
   "metadata": {},
   "source": [
    "## Purchasing Analysis (Total)"
   ]
  },
  {
   "cell_type": "markdown",
   "metadata": {},
   "source": [
    "* Run basic calculations to obtain number of unique items, average price, etc.\n",
    "\n",
    "\n",
    "* Create a summary data frame to hold the results\n",
    "\n",
    "\n",
    "* Optional: give the displayed data cleaner formatting\n",
    "\n",
    "\n",
    "* Display the summary data frame\n"
   ]
  },
  {
   "cell_type": "code",
   "execution_count": 3,
   "metadata": {
    "scrolled": true
   },
   "outputs": [
    {
     "data": {
      "text/html": [
       "<style  type=\"text/css\" >\n",
       "</style><table id=\"T_e2d57609_72fa_11eb_a314_dcfb48770feb\" ><thead>    <tr>        <th class=\"blank level0\" ></th>        <th class=\"col_heading level0 col0\" >Number of Unique Items</th>        <th class=\"col_heading level0 col1\" >Average Price</th>        <th class=\"col_heading level0 col2\" >Number of Purchases</th>        <th class=\"col_heading level0 col3\" >Total Revenue</th>    </tr></thead><tbody>\n",
       "                <tr>\n",
       "                        <th id=\"T_e2d57609_72fa_11eb_a314_dcfb48770feblevel0_row0\" class=\"row_heading level0 row0\" >0</th>\n",
       "                        <td id=\"T_e2d57609_72fa_11eb_a314_dcfb48770febrow0_col0\" class=\"data row0 col0\" >179</td>\n",
       "                        <td id=\"T_e2d57609_72fa_11eb_a314_dcfb48770febrow0_col1\" class=\"data row0 col1\" >$3.05</td>\n",
       "                        <td id=\"T_e2d57609_72fa_11eb_a314_dcfb48770febrow0_col2\" class=\"data row0 col2\" >780</td>\n",
       "                        <td id=\"T_e2d57609_72fa_11eb_a314_dcfb48770febrow0_col3\" class=\"data row0 col3\" >$2,379.77</td>\n",
       "            </tr>\n",
       "    </tbody></table>"
      ],
      "text/plain": [
       "<pandas.io.formats.style.Styler at 0x21eba0972b0>"
      ]
     },
     "execution_count": 3,
     "metadata": {},
     "output_type": "execute_result"
    }
   ],
   "source": [
    "#Number of items based on unique ID\n",
    "numUniqueItems = len(purchase_data[\"Item ID\"].unique())\n",
    "#mean of all prices of purchased items\n",
    "avgPrice = (purchase_data[\"Price\"].mean())\n",
    "numPurchases = len(purchase_data[\"Purchase ID\"])\n",
    "totRevenue = round(purchase_data[\"Price\"].sum(),2)\n",
    "\n",
    "#Inserting info into dataframe\n",
    "purAnalysis_df = pd.DataFrame ({\"Number of Unique Items\": [numUniqueItems],\n",
    "                               \"Average Price\": avgPrice,\n",
    "                               \"Number of Purchases\": [numPurchases],\n",
    "                               \"Total Revenue\": totRevenue})\n",
    "#format to style\n",
    "purAnalysis_df = purAnalysis_df.style.format({\"Average Price\": '${:.3}',\"Total Revenue\": '${:,}'})\n",
    "\n",
    "purAnalysis_df"
   ]
  },
  {
   "cell_type": "markdown",
   "metadata": {},
   "source": [
    "## Gender Demographics"
   ]
  },
  {
   "cell_type": "markdown",
   "metadata": {},
   "source": [
    "* Percentage and Count of Male Players\n",
    "\n",
    "\n",
    "* Percentage and Count of Female Players\n",
    "\n",
    "\n",
    "* Percentage and Count of Other / Non-Disclosed\n",
    "\n",
    "\n"
   ]
  },
  {
   "cell_type": "code",
   "execution_count": 4,
   "metadata": {},
   "outputs": [
    {
     "data": {
      "text/html": [
       "<style  type=\"text/css\" >\n",
       "</style><table id=\"T_e2d92d22_72fa_11eb_9fc6_dcfb48770feb\" ><thead>    <tr>        <th class=\"blank level0\" ></th>        <th class=\"col_heading level0 col0\" >Total Counts</th>        <th class=\"col_heading level0 col1\" >Percentage of Players</th>    </tr></thead><tbody>\n",
       "                <tr>\n",
       "                        <th id=\"T_e2d92d22_72fa_11eb_9fc6_dcfb48770feblevel0_row0\" class=\"row_heading level0 row0\" >Male</th>\n",
       "                        <td id=\"T_e2d92d22_72fa_11eb_9fc6_dcfb48770febrow0_col0\" class=\"data row0 col0\" >484</td>\n",
       "                        <td id=\"T_e2d92d22_72fa_11eb_9fc6_dcfb48770febrow0_col1\" class=\"data row0 col1\" >84.03%</td>\n",
       "            </tr>\n",
       "            <tr>\n",
       "                        <th id=\"T_e2d92d22_72fa_11eb_9fc6_dcfb48770feblevel0_row1\" class=\"row_heading level0 row1\" >Female</th>\n",
       "                        <td id=\"T_e2d92d22_72fa_11eb_9fc6_dcfb48770febrow1_col0\" class=\"data row1 col0\" >81</td>\n",
       "                        <td id=\"T_e2d92d22_72fa_11eb_9fc6_dcfb48770febrow1_col1\" class=\"data row1 col1\" >14.06%</td>\n",
       "            </tr>\n",
       "            <tr>\n",
       "                        <th id=\"T_e2d92d22_72fa_11eb_9fc6_dcfb48770feblevel0_row2\" class=\"row_heading level0 row2\" >Other / Non-Disclosed</th>\n",
       "                        <td id=\"T_e2d92d22_72fa_11eb_9fc6_dcfb48770febrow2_col0\" class=\"data row2 col0\" >11</td>\n",
       "                        <td id=\"T_e2d92d22_72fa_11eb_9fc6_dcfb48770febrow2_col1\" class=\"data row2 col1\" >1.91%</td>\n",
       "            </tr>\n",
       "    </tbody></table>"
      ],
      "text/plain": [
       "<pandas.io.formats.style.Styler at 0x21eb7fbc730>"
      ]
     },
     "execution_count": 4,
     "metadata": {},
     "output_type": "execute_result"
    }
   ],
   "source": [
    "#Extracting columns for usage from Purchase_data csv\n",
    "gender = purchase_data[[\"SN\",\"Gender\",\"Age\"]].drop_duplicates(\"SN\")\n",
    "genderCounts = gender[\"Gender\"].value_counts()\n",
    "perMale = genderCounts[0]/numPlayers\n",
    "perFemale = genderCounts[1]/numPlayers\n",
    "perOther = genderCounts[2]/numPlayers\n",
    "\n",
    "\n",
    "#inserting calculations into dataframe\n",
    "genderdf = pd.DataFrame([genderCounts]).T.rename(columns= {'Gender':'Total Counts'})\n",
    "genderdf['Percentage of Players'] = [perMale, perFemale, perOther]\n",
    "genderdf= genderdf.style.format({'Percentage of Players':'{:.2%}'})\n",
    "genderdf"
   ]
  },
  {
   "cell_type": "markdown",
   "metadata": {},
   "source": [
    "\n",
    "## Purchasing Analysis (Gender)"
   ]
  },
  {
   "cell_type": "markdown",
   "metadata": {},
   "source": [
    "* Run basic calculations to obtain purchase count, avg. purchase price, avg. purchase total per person etc. by gender\n",
    "\n",
    "\n",
    "\n",
    "\n",
    "* Create a summary data frame to hold the results\n",
    "\n",
    "\n",
    "* Optional: give the displayed data cleaner formatting\n",
    "\n",
    "\n",
    "* Display the summary data frame"
   ]
  },
  {
   "cell_type": "code",
   "execution_count": 5,
   "metadata": {},
   "outputs": [
    {
     "data": {
      "text/html": [
       "<style  type=\"text/css\" >\n",
       "</style><table id=\"T_e2e45db8_72fa_11eb_b2d9_dcfb48770feb\" ><thead>    <tr>        <th class=\"blank level0\" ></th>        <th class=\"col_heading level0 col0\" >Purchase Count</th>        <th class=\"col_heading level0 col1\" >Average Purchase Price</th>        <th class=\"col_heading level0 col2\" >Total Purchase Value</th>        <th class=\"col_heading level0 col3\" >Avg Total Purchase per Person</th>    </tr>    <tr>        <th class=\"index_name level0\" >Gender</th>        <th class=\"blank\" ></th>        <th class=\"blank\" ></th>        <th class=\"blank\" ></th>        <th class=\"blank\" ></th>    </tr></thead><tbody>\n",
       "                <tr>\n",
       "                        <th id=\"T_e2e45db8_72fa_11eb_b2d9_dcfb48770feblevel0_row0\" class=\"row_heading level0 row0\" >Female</th>\n",
       "                        <td id=\"T_e2e45db8_72fa_11eb_b2d9_dcfb48770febrow0_col0\" class=\"data row0 col0\" >113</td>\n",
       "                        <td id=\"T_e2e45db8_72fa_11eb_b2d9_dcfb48770febrow0_col1\" class=\"data row0 col1\" >$3.20</td>\n",
       "                        <td id=\"T_e2e45db8_72fa_11eb_b2d9_dcfb48770febrow0_col2\" class=\"data row0 col2\" >$361.94</td>\n",
       "                        <td id=\"T_e2e45db8_72fa_11eb_b2d9_dcfb48770febrow0_col3\" class=\"data row0 col3\" >$4.47</td>\n",
       "            </tr>\n",
       "            <tr>\n",
       "                        <th id=\"T_e2e45db8_72fa_11eb_b2d9_dcfb48770feblevel0_row1\" class=\"row_heading level0 row1\" >Male</th>\n",
       "                        <td id=\"T_e2e45db8_72fa_11eb_b2d9_dcfb48770febrow1_col0\" class=\"data row1 col0\" >652</td>\n",
       "                        <td id=\"T_e2e45db8_72fa_11eb_b2d9_dcfb48770febrow1_col1\" class=\"data row1 col1\" >$3.02</td>\n",
       "                        <td id=\"T_e2e45db8_72fa_11eb_b2d9_dcfb48770febrow1_col2\" class=\"data row1 col2\" >$1,967.64</td>\n",
       "                        <td id=\"T_e2e45db8_72fa_11eb_b2d9_dcfb48770febrow1_col3\" class=\"data row1 col3\" >$4.07</td>\n",
       "            </tr>\n",
       "            <tr>\n",
       "                        <th id=\"T_e2e45db8_72fa_11eb_b2d9_dcfb48770feblevel0_row2\" class=\"row_heading level0 row2\" >Other / Non-Disclosed</th>\n",
       "                        <td id=\"T_e2e45db8_72fa_11eb_b2d9_dcfb48770febrow2_col0\" class=\"data row2 col0\" >15</td>\n",
       "                        <td id=\"T_e2e45db8_72fa_11eb_b2d9_dcfb48770febrow2_col1\" class=\"data row2 col1\" >$3.35</td>\n",
       "                        <td id=\"T_e2e45db8_72fa_11eb_b2d9_dcfb48770febrow2_col2\" class=\"data row2 col2\" >$50.19</td>\n",
       "                        <td id=\"T_e2e45db8_72fa_11eb_b2d9_dcfb48770febrow2_col3\" class=\"data row2 col3\" >$4.56</td>\n",
       "            </tr>\n",
       "    </tbody></table>"
      ],
      "text/plain": [
       "<pandas.io.formats.style.Styler at 0x21ebb167ee0>"
      ]
     },
     "execution_count": 5,
     "metadata": {},
     "output_type": "execute_result"
    }
   ],
   "source": [
    "#multiple dataframes for each calculation (using gender as a Key) and using count, mean, sum to calculate\n",
    "purCount = pd.DataFrame(purchase_data.groupby('Gender', as_index = False).Price.count().rename(columns = {'Price':'Purchase Count'}))\n",
    "averagePr = pd.DataFrame(purchase_data.groupby('Gender', as_index = False).Price.mean().rename(columns = {'Price':'Average Purchase Price'}))\n",
    "totPr = pd.DataFrame(purchase_data.groupby('Gender',as_index = False).Price.sum().rename(columns = {'Price':'Total Purchase Value'}))\n",
    "\n",
    "#merging all the dataframes into one\n",
    "pA = pd.merge(purCount, averagePr, on = 'Gender')\n",
    "pA = pd.merge(pA, totPr, on = 'Gender')\n",
    "\n",
    "#formatting and final dataframe merge \n",
    "gendertest = pd.DataFrame([genderCounts]).T\n",
    "avgTotal = pd.merge(gendertest, totPr, left_index = True, right_on = 'Gender')\n",
    "avgTotal['avg'] = avgTotal.iloc[:,3]/avgTotal.iloc[:,1]\n",
    "pA['Avg Total Purchase per Person'] = avgTotal.iloc[:,4]\n",
    "pA= pA.set_index('Gender')\n",
    "pA = pA.style.format({pA.columns[1]:'${:.2f}',pA.columns[2]:'${:,.2f}',pA.columns[3]:'${:.2f}'})\n",
    "pA"
   ]
  },
  {
   "cell_type": "markdown",
   "metadata": {},
   "source": [
    "## Age Demographics"
   ]
  },
  {
   "cell_type": "markdown",
   "metadata": {},
   "source": [
    "* Establish bins for ages\n",
    "\n",
    "\n",
    "* Categorize the existing players using the age bins. Hint: use pd.cut()\n",
    "\n",
    "\n",
    "* Calculate the numbers and percentages by age group\n",
    "\n",
    "\n",
    "* Create a summary data frame to hold the results\n",
    "\n",
    "\n",
    "* Optional: round the percentage column to two decimal points\n",
    "\n",
    "\n",
    "* Display Age Demographics Table\n"
   ]
  },
  {
   "cell_type": "code",
   "execution_count": null,
   "metadata": {},
   "outputs": [],
   "source": []
  },
  {
   "cell_type": "code",
   "execution_count": 6,
   "metadata": {},
   "outputs": [
    {
     "data": {
      "text/html": [
       "<style  type=\"text/css\" >\n",
       "</style><table id=\"T_e2eabd61_72fa_11eb_8ed2_dcfb48770feb\" ><thead>    <tr>        <th class=\"blank level0\" ></th>        <th class=\"col_heading level0 col0\" >Total Count</th>        <th class=\"col_heading level0 col1\" >Percentage of Players</th>    </tr>    <tr>        <th class=\"index_name level0\" >Range</th>        <th class=\"blank\" ></th>        <th class=\"blank\" ></th>    </tr></thead><tbody>\n",
       "                <tr>\n",
       "                        <th id=\"T_e2eabd61_72fa_11eb_8ed2_dcfb48770feblevel0_row0\" class=\"row_heading level0 row0\" ><10</th>\n",
       "                        <td id=\"T_e2eabd61_72fa_11eb_8ed2_dcfb48770febrow0_col0\" class=\"data row0 col0\" >17</td>\n",
       "                        <td id=\"T_e2eabd61_72fa_11eb_8ed2_dcfb48770febrow0_col1\" class=\"data row0 col1\" >2.95%</td>\n",
       "            </tr>\n",
       "            <tr>\n",
       "                        <th id=\"T_e2eabd61_72fa_11eb_8ed2_dcfb48770feblevel0_row1\" class=\"row_heading level0 row1\" >10-14</th>\n",
       "                        <td id=\"T_e2eabd61_72fa_11eb_8ed2_dcfb48770febrow1_col0\" class=\"data row1 col0\" >22</td>\n",
       "                        <td id=\"T_e2eabd61_72fa_11eb_8ed2_dcfb48770febrow1_col1\" class=\"data row1 col1\" >3.82%</td>\n",
       "            </tr>\n",
       "            <tr>\n",
       "                        <th id=\"T_e2eabd61_72fa_11eb_8ed2_dcfb48770feblevel0_row2\" class=\"row_heading level0 row2\" >15-19</th>\n",
       "                        <td id=\"T_e2eabd61_72fa_11eb_8ed2_dcfb48770febrow2_col0\" class=\"data row2 col0\" >107</td>\n",
       "                        <td id=\"T_e2eabd61_72fa_11eb_8ed2_dcfb48770febrow2_col1\" class=\"data row2 col1\" >18.58%</td>\n",
       "            </tr>\n",
       "            <tr>\n",
       "                        <th id=\"T_e2eabd61_72fa_11eb_8ed2_dcfb48770feblevel0_row3\" class=\"row_heading level0 row3\" >20-24</th>\n",
       "                        <td id=\"T_e2eabd61_72fa_11eb_8ed2_dcfb48770febrow3_col0\" class=\"data row3 col0\" >258</td>\n",
       "                        <td id=\"T_e2eabd61_72fa_11eb_8ed2_dcfb48770febrow3_col1\" class=\"data row3 col1\" >44.79%</td>\n",
       "            </tr>\n",
       "            <tr>\n",
       "                        <th id=\"T_e2eabd61_72fa_11eb_8ed2_dcfb48770feblevel0_row4\" class=\"row_heading level0 row4\" >25-29</th>\n",
       "                        <td id=\"T_e2eabd61_72fa_11eb_8ed2_dcfb48770febrow4_col0\" class=\"data row4 col0\" >77</td>\n",
       "                        <td id=\"T_e2eabd61_72fa_11eb_8ed2_dcfb48770febrow4_col1\" class=\"data row4 col1\" >13.37%</td>\n",
       "            </tr>\n",
       "            <tr>\n",
       "                        <th id=\"T_e2eabd61_72fa_11eb_8ed2_dcfb48770feblevel0_row5\" class=\"row_heading level0 row5\" >30-34</th>\n",
       "                        <td id=\"T_e2eabd61_72fa_11eb_8ed2_dcfb48770febrow5_col0\" class=\"data row5 col0\" >52</td>\n",
       "                        <td id=\"T_e2eabd61_72fa_11eb_8ed2_dcfb48770febrow5_col1\" class=\"data row5 col1\" >9.03%</td>\n",
       "            </tr>\n",
       "            <tr>\n",
       "                        <th id=\"T_e2eabd61_72fa_11eb_8ed2_dcfb48770feblevel0_row6\" class=\"row_heading level0 row6\" >35-39</th>\n",
       "                        <td id=\"T_e2eabd61_72fa_11eb_8ed2_dcfb48770febrow6_col0\" class=\"data row6 col0\" >31</td>\n",
       "                        <td id=\"T_e2eabd61_72fa_11eb_8ed2_dcfb48770febrow6_col1\" class=\"data row6 col1\" >5.38%</td>\n",
       "            </tr>\n",
       "            <tr>\n",
       "                        <th id=\"T_e2eabd61_72fa_11eb_8ed2_dcfb48770feblevel0_row7\" class=\"row_heading level0 row7\" >40+</th>\n",
       "                        <td id=\"T_e2eabd61_72fa_11eb_8ed2_dcfb48770febrow7_col0\" class=\"data row7 col0\" >12</td>\n",
       "                        <td id=\"T_e2eabd61_72fa_11eb_8ed2_dcfb48770febrow7_col1\" class=\"data row7 col1\" >2.08%</td>\n",
       "            </tr>\n",
       "    </tbody></table>"
      ],
      "text/plain": [
       "<pandas.io.formats.style.Styler at 0x21ebb167070>"
      ]
     },
     "execution_count": 6,
     "metadata": {},
     "output_type": "execute_result"
    }
   ],
   "source": [
    "#binning the age and creating labels\n",
    "ageBin = [0, 9.9, 14.9,19.9,24.9,29.9,34.9,39.9,1000]\n",
    "ageLabels = ['<10', '10-14','15-19','20-24','25-29','30-34','35-39','40+']\n",
    "\n",
    "#pulling information from gender\n",
    "agedf = gender[['SN','Age']]\n",
    "agedf[\"Range\"] = pd.cut(gender[\"Age\"], ageBin, labels=ageLabels, include_lowest=True)\n",
    "\n",
    "#SN column is not needed (used as placeholder to check info)\n",
    "del agedf[\"SN\"]\n",
    "\n",
    "#grouping by Binned group\n",
    "ageDemo = agedf.groupby(['Range']).count().rename(columns = {'Age':'Total Count'})\n",
    "\n",
    "#creating percentage of Players and formatting\n",
    "ageDemo['Percentage of Players'] = (ageDemo.iloc[:,]/ageDemo.sum())\n",
    "ageDemographic = ageDemo.style.format({ageDemo.columns[1]:'{:.2%}'})\n",
    "\n",
    "ageDemographic"
   ]
  },
  {
   "cell_type": "markdown",
   "metadata": {},
   "source": [
    "## Purchasing Analysis (Age)"
   ]
  },
  {
   "cell_type": "markdown",
   "metadata": {},
   "source": [
    "* Bin the purchase_data data frame by age\n",
    "\n",
    "\n",
    "* Run basic calculations to obtain purchase count, avg. purchase price, avg. purchase total per person etc. in the table below\n",
    "\n",
    "\n",
    "* Create a summary data frame to hold the results\n",
    "\n",
    "\n",
    "* Optional: give the displayed data cleaner formatting\n",
    "\n",
    "\n",
    "* Display the summary data frame"
   ]
  },
  {
   "cell_type": "code",
   "execution_count": 7,
   "metadata": {},
   "outputs": [
    {
     "name": "stderr",
     "output_type": "stream",
     "text": [
      "<ipython-input-7-bc30d1e6eed1>:5: SettingWithCopyWarning: \n",
      "A value is trying to be set on a copy of a slice from a DataFrame.\n",
      "Try using .loc[row_indexer,col_indexer] = value instead\n",
      "\n",
      "See the caveats in the documentation: https://pandas.pydata.org/pandas-docs/stable/user_guide/indexing.html#returning-a-view-versus-a-copy\n",
      "  agePur[\"Range\"] = pd.cut(agePur[\"Age\"], ageBin, labels=ageLabels, include_lowest=True)\n"
     ]
    },
    {
     "data": {
      "text/html": [
       "<style  type=\"text/css\" >\n",
       "</style><table id=\"T_e2f67556_72fa_11eb_be16_dcfb48770feb\" ><thead>    <tr>        <th class=\"blank level0\" ></th>        <th class=\"col_heading level0 col0\" >Purchase Count</th>        <th class=\"col_heading level0 col1\" >Average Purchase Price</th>        <th class=\"col_heading level0 col2\" >Total Purchase Value</th>        <th class=\"col_heading level0 col3\" >Avg Total Purchase per Person</th>    </tr>    <tr>        <th class=\"index_name level0\" >Age Ranges</th>        <th class=\"blank\" ></th>        <th class=\"blank\" ></th>        <th class=\"blank\" ></th>        <th class=\"blank\" ></th>    </tr></thead><tbody>\n",
       "                <tr>\n",
       "                        <th id=\"T_e2f67556_72fa_11eb_be16_dcfb48770feblevel0_row0\" class=\"row_heading level0 row0\" ><10</th>\n",
       "                        <td id=\"T_e2f67556_72fa_11eb_be16_dcfb48770febrow0_col0\" class=\"data row0 col0\" >23</td>\n",
       "                        <td id=\"T_e2f67556_72fa_11eb_be16_dcfb48770febrow0_col1\" class=\"data row0 col1\" >$3.35</td>\n",
       "                        <td id=\"T_e2f67556_72fa_11eb_be16_dcfb48770febrow0_col2\" class=\"data row0 col2\" >$77.13</td>\n",
       "                        <td id=\"T_e2f67556_72fa_11eb_be16_dcfb48770febrow0_col3\" class=\"data row0 col3\" >$4.54</td>\n",
       "            </tr>\n",
       "            <tr>\n",
       "                        <th id=\"T_e2f67556_72fa_11eb_be16_dcfb48770feblevel0_row1\" class=\"row_heading level0 row1\" >10-14</th>\n",
       "                        <td id=\"T_e2f67556_72fa_11eb_be16_dcfb48770febrow1_col0\" class=\"data row1 col0\" >28</td>\n",
       "                        <td id=\"T_e2f67556_72fa_11eb_be16_dcfb48770febrow1_col1\" class=\"data row1 col1\" >$2.96</td>\n",
       "                        <td id=\"T_e2f67556_72fa_11eb_be16_dcfb48770febrow1_col2\" class=\"data row1 col2\" >$82.78</td>\n",
       "                        <td id=\"T_e2f67556_72fa_11eb_be16_dcfb48770febrow1_col3\" class=\"data row1 col3\" >$3.76</td>\n",
       "            </tr>\n",
       "            <tr>\n",
       "                        <th id=\"T_e2f67556_72fa_11eb_be16_dcfb48770feblevel0_row2\" class=\"row_heading level0 row2\" >15-19</th>\n",
       "                        <td id=\"T_e2f67556_72fa_11eb_be16_dcfb48770febrow2_col0\" class=\"data row2 col0\" >136</td>\n",
       "                        <td id=\"T_e2f67556_72fa_11eb_be16_dcfb48770febrow2_col1\" class=\"data row2 col1\" >$3.04</td>\n",
       "                        <td id=\"T_e2f67556_72fa_11eb_be16_dcfb48770febrow2_col2\" class=\"data row2 col2\" >$412.89</td>\n",
       "                        <td id=\"T_e2f67556_72fa_11eb_be16_dcfb48770febrow2_col3\" class=\"data row2 col3\" >$3.86</td>\n",
       "            </tr>\n",
       "            <tr>\n",
       "                        <th id=\"T_e2f67556_72fa_11eb_be16_dcfb48770feblevel0_row3\" class=\"row_heading level0 row3\" >20-24</th>\n",
       "                        <td id=\"T_e2f67556_72fa_11eb_be16_dcfb48770febrow3_col0\" class=\"data row3 col0\" >365</td>\n",
       "                        <td id=\"T_e2f67556_72fa_11eb_be16_dcfb48770febrow3_col1\" class=\"data row3 col1\" >$3.05</td>\n",
       "                        <td id=\"T_e2f67556_72fa_11eb_be16_dcfb48770febrow3_col2\" class=\"data row3 col2\" >$1,114.06</td>\n",
       "                        <td id=\"T_e2f67556_72fa_11eb_be16_dcfb48770febrow3_col3\" class=\"data row3 col3\" >$4.32</td>\n",
       "            </tr>\n",
       "            <tr>\n",
       "                        <th id=\"T_e2f67556_72fa_11eb_be16_dcfb48770feblevel0_row4\" class=\"row_heading level0 row4\" >25-29</th>\n",
       "                        <td id=\"T_e2f67556_72fa_11eb_be16_dcfb48770febrow4_col0\" class=\"data row4 col0\" >101</td>\n",
       "                        <td id=\"T_e2f67556_72fa_11eb_be16_dcfb48770febrow4_col1\" class=\"data row4 col1\" >$2.90</td>\n",
       "                        <td id=\"T_e2f67556_72fa_11eb_be16_dcfb48770febrow4_col2\" class=\"data row4 col2\" >$293.00</td>\n",
       "                        <td id=\"T_e2f67556_72fa_11eb_be16_dcfb48770febrow4_col3\" class=\"data row4 col3\" >$3.81</td>\n",
       "            </tr>\n",
       "            <tr>\n",
       "                        <th id=\"T_e2f67556_72fa_11eb_be16_dcfb48770feblevel0_row5\" class=\"row_heading level0 row5\" >30-34</th>\n",
       "                        <td id=\"T_e2f67556_72fa_11eb_be16_dcfb48770febrow5_col0\" class=\"data row5 col0\" >73</td>\n",
       "                        <td id=\"T_e2f67556_72fa_11eb_be16_dcfb48770febrow5_col1\" class=\"data row5 col1\" >$2.93</td>\n",
       "                        <td id=\"T_e2f67556_72fa_11eb_be16_dcfb48770febrow5_col2\" class=\"data row5 col2\" >$214.00</td>\n",
       "                        <td id=\"T_e2f67556_72fa_11eb_be16_dcfb48770febrow5_col3\" class=\"data row5 col3\" >$4.12</td>\n",
       "            </tr>\n",
       "            <tr>\n",
       "                        <th id=\"T_e2f67556_72fa_11eb_be16_dcfb48770feblevel0_row6\" class=\"row_heading level0 row6\" >35-39</th>\n",
       "                        <td id=\"T_e2f67556_72fa_11eb_be16_dcfb48770febrow6_col0\" class=\"data row6 col0\" >41</td>\n",
       "                        <td id=\"T_e2f67556_72fa_11eb_be16_dcfb48770febrow6_col1\" class=\"data row6 col1\" >$3.60</td>\n",
       "                        <td id=\"T_e2f67556_72fa_11eb_be16_dcfb48770febrow6_col2\" class=\"data row6 col2\" >$147.67</td>\n",
       "                        <td id=\"T_e2f67556_72fa_11eb_be16_dcfb48770febrow6_col3\" class=\"data row6 col3\" >$4.76</td>\n",
       "            </tr>\n",
       "            <tr>\n",
       "                        <th id=\"T_e2f67556_72fa_11eb_be16_dcfb48770feblevel0_row7\" class=\"row_heading level0 row7\" >40+</th>\n",
       "                        <td id=\"T_e2f67556_72fa_11eb_be16_dcfb48770febrow7_col0\" class=\"data row7 col0\" >13</td>\n",
       "                        <td id=\"T_e2f67556_72fa_11eb_be16_dcfb48770febrow7_col1\" class=\"data row7 col1\" >$2.94</td>\n",
       "                        <td id=\"T_e2f67556_72fa_11eb_be16_dcfb48770febrow7_col2\" class=\"data row7 col2\" >$38.24</td>\n",
       "                        <td id=\"T_e2f67556_72fa_11eb_be16_dcfb48770febrow7_col3\" class=\"data row7 col3\" >$3.19</td>\n",
       "            </tr>\n",
       "    </tbody></table>"
      ],
      "text/plain": [
       "<pandas.io.formats.style.Styler at 0x21eb9e6b220>"
      ]
     },
     "execution_count": 7,
     "metadata": {},
     "output_type": "execute_result"
    }
   ],
   "source": [
    "#exctracting data needed this time with Age and Price\n",
    "agePur = purchase_data[[\"Age\",\"Price\"]]\n",
    "\n",
    "#using previous binned info, creating a column for Range\n",
    "agePur[\"Range\"] = pd.cut(agePur[\"Age\"], ageBin, labels=ageLabels, include_lowest=True)\n",
    "ageCount = agePur.groupby('Range', as_index = False).Price.count().rename(columns = {'Price':'Purchase Count'})\n",
    "ageAvgPur = agePur.groupby('Range', as_index = False).Price.mean().rename(columns = {'Price':'Average Purchase Price'})\n",
    "ageTotPur = agePur.groupby('Range', as_index = False).Price.sum().rename(columns = {'Price':'Total Purchase Value'})\n",
    "ageAvgTot = pd.merge(ageTotPur,ageDemo, on = 'Range')\n",
    "#no need for percentage of players and total count\n",
    "del ageAvgTot['Percentage of Players']\n",
    "ageAvgTot['Avg Total Purchase per Person'] = ageAvgTot.iloc[:,1]/ageAvgTot.iloc[:,2]\n",
    "del ageAvgTot['Total Count']\n",
    "\n",
    "\n",
    "#merging all created dataframe assets into one and renaming column. Setting the index to the ranges\n",
    "aPa = pd.merge(pd.merge(ageCount, ageAvgPur, on = \"Range\"),ageAvgTot, on = \"Range\").rename(columns = {'Range':'Age Ranges'})\n",
    "aPa = aPa.set_index('Age Ranges')\n",
    "\n",
    "#formatting the 2,3,4 column (alternatively could use iloc and save space)\n",
    "agePurchaseAnalysis = aPa.style.format({aPa.columns[1]:'${:.2f}',aPa.columns[2]:'${:,.2f}',aPa.columns[3]:'${:.2f}'})\n",
    "agePurchaseAnalysis"
   ]
  },
  {
   "cell_type": "markdown",
   "metadata": {},
   "source": [
    "## Top Spenders"
   ]
  },
  {
   "cell_type": "markdown",
   "metadata": {},
   "source": [
    "* Run basic calculations to obtain the results in the table below\n",
    "\n",
    "\n",
    "* Create a summary data frame to hold the results\n",
    "\n",
    "\n",
    "* Sort the total purchase value column in descending order\n",
    "\n",
    "\n",
    "* Optional: give the displayed data cleaner formatting\n",
    "\n",
    "\n",
    "* Display a preview of the summary data frame\n",
    "\n"
   ]
  },
  {
   "cell_type": "code",
   "execution_count": 8,
   "metadata": {},
   "outputs": [
    {
     "data": {
      "text/html": [
       "<div>\n",
       "<style scoped>\n",
       "    .dataframe tbody tr th:only-of-type {\n",
       "        vertical-align: middle;\n",
       "    }\n",
       "\n",
       "    .dataframe tbody tr th {\n",
       "        vertical-align: top;\n",
       "    }\n",
       "\n",
       "    .dataframe thead th {\n",
       "        text-align: right;\n",
       "    }\n",
       "</style>\n",
       "<table border=\"1\" class=\"dataframe\">\n",
       "  <thead>\n",
       "    <tr style=\"text-align: right;\">\n",
       "      <th></th>\n",
       "      <th>Purchase Count</th>\n",
       "      <th>Average Purchase Price</th>\n",
       "      <th>Total Purchase Value</th>\n",
       "    </tr>\n",
       "    <tr>\n",
       "      <th>SN</th>\n",
       "      <th></th>\n",
       "      <th></th>\n",
       "      <th></th>\n",
       "    </tr>\n",
       "  </thead>\n",
       "  <tbody>\n",
       "    <tr>\n",
       "      <th>Lisosia93</th>\n",
       "      <td>5</td>\n",
       "      <td>$3.79</td>\n",
       "      <td>$18.96</td>\n",
       "    </tr>\n",
       "    <tr>\n",
       "      <th>Idastidru52</th>\n",
       "      <td>4</td>\n",
       "      <td>$3.86</td>\n",
       "      <td>$15.45</td>\n",
       "    </tr>\n",
       "    <tr>\n",
       "      <th>Chamjask73</th>\n",
       "      <td>3</td>\n",
       "      <td>$4.61</td>\n",
       "      <td>$13.83</td>\n",
       "    </tr>\n",
       "    <tr>\n",
       "      <th>Iral74</th>\n",
       "      <td>4</td>\n",
       "      <td>$3.40</td>\n",
       "      <td>$13.62</td>\n",
       "    </tr>\n",
       "    <tr>\n",
       "      <th>Iskadarya95</th>\n",
       "      <td>3</td>\n",
       "      <td>$4.37</td>\n",
       "      <td>$13.10</td>\n",
       "    </tr>\n",
       "  </tbody>\n",
       "</table>\n",
       "</div>"
      ],
      "text/plain": [
       "             Purchase Count Average Purchase Price Total Purchase Value\n",
       "SN                                                                     \n",
       "Lisosia93                 5                  $3.79               $18.96\n",
       "Idastidru52               4                  $3.86               $15.45\n",
       "Chamjask73                3                  $4.61               $13.83\n",
       "Iral74                    4                  $3.40               $13.62\n",
       "Iskadarya95               3                  $4.37               $13.10"
      ]
     },
     "execution_count": 8,
     "metadata": {},
     "output_type": "execute_result"
    }
   ],
   "source": [
    "#Pulling data needed\n",
    "SNinfo = purchase_data[['SN','Price','Purchase ID']]\n",
    "#calculations into data frames\n",
    "SNcount = pd.DataFrame(SNinfo['SN'].value_counts()).rename(columns={'SN':'Purchase Count'})\n",
    "SNavgpur = SNinfo.groupby('SN', as_index = False).Price.mean().rename(columns = {'Price':'Average Purchase Price'})\n",
    "TopSpenders = pd.merge(SNcount, SNavgpur, left_index = True, right_on = 'SN')\n",
    "TopSpenders['Total Purchase Value'] = TopSpenders.iloc[:,0]*TopSpenders.iloc[:,2]\n",
    "\n",
    "#sorting by top spenders and setting index. formatting columns using apply map (multiple columns)\n",
    "TopSpenders = TopSpenders.sort_values('Total Purchase Value', ascending = 0).set_index('SN')\n",
    "TopSpenders.iloc[:,1:3] = TopSpenders.iloc[:,1:3].applymap('${:.2f}'.format)\n",
    "\n",
    "#display preview\n",
    "TopSpenders.head(5)"
   ]
  },
  {
   "cell_type": "markdown",
   "metadata": {},
   "source": [
    "## Most Popular Items"
   ]
  },
  {
   "cell_type": "markdown",
   "metadata": {},
   "source": [
    "* Retrieve the Item ID, Item Name, and Item Price columns\n",
    "\n",
    "\n",
    "* Group by Item ID and Item Name. Perform calculations to obtain purchase count, average item price, and total purchase value\n",
    "\n",
    "\n",
    "* Create a summary data frame to hold the results\n",
    "\n",
    "\n",
    "* Sort the purchase count column in descending order\n",
    "\n",
    "\n",
    "* Optional: give the displayed data cleaner formatting\n",
    "\n",
    "\n",
    "* Display a preview of the summary data frame\n",
    "\n"
   ]
  },
  {
   "cell_type": "code",
   "execution_count": 9,
   "metadata": {},
   "outputs": [
    {
     "data": {
      "text/html": [
       "<div>\n",
       "<style scoped>\n",
       "    .dataframe tbody tr th:only-of-type {\n",
       "        vertical-align: middle;\n",
       "    }\n",
       "\n",
       "    .dataframe tbody tr th {\n",
       "        vertical-align: top;\n",
       "    }\n",
       "\n",
       "    .dataframe thead th {\n",
       "        text-align: right;\n",
       "    }\n",
       "</style>\n",
       "<table border=\"1\" class=\"dataframe\">\n",
       "  <thead>\n",
       "    <tr style=\"text-align: right;\">\n",
       "      <th></th>\n",
       "      <th></th>\n",
       "      <th>Purchase Count</th>\n",
       "      <th>Average Purchase Price</th>\n",
       "      <th>Total Purchase Value</th>\n",
       "    </tr>\n",
       "    <tr>\n",
       "      <th>Item ID</th>\n",
       "      <th>Item Name</th>\n",
       "      <th></th>\n",
       "      <th></th>\n",
       "      <th></th>\n",
       "    </tr>\n",
       "  </thead>\n",
       "  <tbody>\n",
       "    <tr>\n",
       "      <th>92</th>\n",
       "      <th>Final Critic</th>\n",
       "      <td>13</td>\n",
       "      <td>$4.61</td>\n",
       "      <td>$59.99</td>\n",
       "    </tr>\n",
       "    <tr>\n",
       "      <th>178</th>\n",
       "      <th>Oathbreaker, Last Hope of the Breaking Storm</th>\n",
       "      <td>12</td>\n",
       "      <td>$4.23</td>\n",
       "      <td>$50.76</td>\n",
       "    </tr>\n",
       "    <tr>\n",
       "      <th>132</th>\n",
       "      <th>Persuasion</th>\n",
       "      <td>9</td>\n",
       "      <td>$3.22</td>\n",
       "      <td>$28.99</td>\n",
       "    </tr>\n",
       "    <tr>\n",
       "      <th>82</th>\n",
       "      <th>Nirvana</th>\n",
       "      <td>9</td>\n",
       "      <td>$4.90</td>\n",
       "      <td>$44.10</td>\n",
       "    </tr>\n",
       "    <tr>\n",
       "      <th>108</th>\n",
       "      <th>Extraction, Quickblade Of Trembling Hands</th>\n",
       "      <td>9</td>\n",
       "      <td>$3.53</td>\n",
       "      <td>$31.77</td>\n",
       "    </tr>\n",
       "  </tbody>\n",
       "</table>\n",
       "</div>"
      ],
      "text/plain": [
       "                                                      Purchase Count  \\\n",
       "Item ID Item Name                                                      \n",
       "92      Final Critic                                              13   \n",
       "178     Oathbreaker, Last Hope of the Breaking Storm              12   \n",
       "132     Persuasion                                                 9   \n",
       "82      Nirvana                                                    9   \n",
       "108     Extraction, Quickblade Of Trembling Hands                  9   \n",
       "\n",
       "                                                     Average Purchase Price  \\\n",
       "Item ID Item Name                                                             \n",
       "92      Final Critic                                                  $4.61   \n",
       "178     Oathbreaker, Last Hope of the Breaking Storm                  $4.23   \n",
       "132     Persuasion                                                    $3.22   \n",
       "82      Nirvana                                                       $4.90   \n",
       "108     Extraction, Quickblade Of Trembling Hands                     $3.53   \n",
       "\n",
       "                                                     Total Purchase Value  \n",
       "Item ID Item Name                                                          \n",
       "92      Final Critic                                               $59.99  \n",
       "178     Oathbreaker, Last Hope of the Breaking Storm               $50.76  \n",
       "132     Persuasion                                                 $28.99  \n",
       "82      Nirvana                                                    $44.10  \n",
       "108     Extraction, Quickblade Of Trembling Hands                  $31.77  "
      ]
     },
     "execution_count": 9,
     "metadata": {},
     "output_type": "execute_result"
    }
   ],
   "source": [
    "#extracting relevant info\n",
    "itemInfo = purchase_data[['Item ID','Item Name','Price']]\n",
    "\n",
    "#performed calculations using item name as key (could use item ID, but wanted to use Item Name to remove confusion from index)\n",
    "itemcount = pd.DataFrame(itemInfo['Item Name'].value_counts()).rename(columns={'Item Name':'Purchase Count'})\n",
    "itemPrice = itemInfo.groupby('Item Name', as_index = False).Price.mean().rename(columns = {'Price':'Average Purchase Price'})\n",
    "popItems = pd.merge(itemcount, itemPrice, left_index = True, right_on = 'Item Name')\n",
    "popItems['Total Purchase Value']= popItems.iloc[:,0]*popItems.iloc[:,2]\n",
    "\n",
    "#merging ID with those names\n",
    "popItems = pd.merge(popItems, (itemInfo[['Item Name','Item ID']].drop_duplicates('Item Name')), on = 'Item Name', how = 'left').set_index(['Item ID','Item Name'])\n",
    "\n",
    "#sorting the final into a seperate Dataframe to be viewed (need to save the popItems for later use)\n",
    "mostItem = popItems.sort_values('Purchase Count', ascending = 0)\n",
    "mostItem.iloc[:,1:3] = popItems.iloc[:,1:3].applymap('${:.2f}'.format)\n",
    "mostItem.head(5)\n",
    "\n"
   ]
  },
  {
   "cell_type": "markdown",
   "metadata": {},
   "source": [
    "## Most Profitable Items"
   ]
  },
  {
   "cell_type": "markdown",
   "metadata": {},
   "source": [
    "* Sort the above table by total purchase value in descending order\n",
    "\n",
    "\n",
    "* Optional: give the displayed data cleaner formatting\n",
    "\n",
    "\n",
    "* Display a preview of the data frame\n",
    "\n"
   ]
  },
  {
   "cell_type": "code",
   "execution_count": 10,
   "metadata": {
    "scrolled": true
   },
   "outputs": [
    {
     "data": {
      "text/html": [
       "<div>\n",
       "<style scoped>\n",
       "    .dataframe tbody tr th:only-of-type {\n",
       "        vertical-align: middle;\n",
       "    }\n",
       "\n",
       "    .dataframe tbody tr th {\n",
       "        vertical-align: top;\n",
       "    }\n",
       "\n",
       "    .dataframe thead th {\n",
       "        text-align: right;\n",
       "    }\n",
       "</style>\n",
       "<table border=\"1\" class=\"dataframe\">\n",
       "  <thead>\n",
       "    <tr style=\"text-align: right;\">\n",
       "      <th></th>\n",
       "      <th></th>\n",
       "      <th>Purchase Count</th>\n",
       "      <th>Average Purchase Price</th>\n",
       "      <th>Total Purchase Value</th>\n",
       "    </tr>\n",
       "    <tr>\n",
       "      <th>Item ID</th>\n",
       "      <th>Item Name</th>\n",
       "      <th></th>\n",
       "      <th></th>\n",
       "      <th></th>\n",
       "    </tr>\n",
       "  </thead>\n",
       "  <tbody>\n",
       "    <tr>\n",
       "      <th>92</th>\n",
       "      <th>Final Critic</th>\n",
       "      <td>13</td>\n",
       "      <td>$4.61</td>\n",
       "      <td>$59.99</td>\n",
       "    </tr>\n",
       "    <tr>\n",
       "      <th>178</th>\n",
       "      <th>Oathbreaker, Last Hope of the Breaking Storm</th>\n",
       "      <td>12</td>\n",
       "      <td>$4.23</td>\n",
       "      <td>$50.76</td>\n",
       "    </tr>\n",
       "    <tr>\n",
       "      <th>82</th>\n",
       "      <th>Nirvana</th>\n",
       "      <td>9</td>\n",
       "      <td>$4.90</td>\n",
       "      <td>$44.10</td>\n",
       "    </tr>\n",
       "    <tr>\n",
       "      <th>145</th>\n",
       "      <th>Fiery Glass Crusader</th>\n",
       "      <td>9</td>\n",
       "      <td>$4.58</td>\n",
       "      <td>$41.22</td>\n",
       "    </tr>\n",
       "    <tr>\n",
       "      <th>103</th>\n",
       "      <th>Singed Scalpel</th>\n",
       "      <td>8</td>\n",
       "      <td>$4.35</td>\n",
       "      <td>$34.80</td>\n",
       "    </tr>\n",
       "  </tbody>\n",
       "</table>\n",
       "</div>"
      ],
      "text/plain": [
       "                                                      Purchase Count  \\\n",
       "Item ID Item Name                                                      \n",
       "92      Final Critic                                              13   \n",
       "178     Oathbreaker, Last Hope of the Breaking Storm              12   \n",
       "82      Nirvana                                                    9   \n",
       "145     Fiery Glass Crusader                                       9   \n",
       "103     Singed Scalpel                                             8   \n",
       "\n",
       "                                                     Average Purchase Price  \\\n",
       "Item ID Item Name                                                             \n",
       "92      Final Critic                                                  $4.61   \n",
       "178     Oathbreaker, Last Hope of the Breaking Storm                  $4.23   \n",
       "82      Nirvana                                                       $4.90   \n",
       "145     Fiery Glass Crusader                                          $4.58   \n",
       "103     Singed Scalpel                                                $4.35   \n",
       "\n",
       "                                                     Total Purchase Value  \n",
       "Item ID Item Name                                                          \n",
       "92      Final Critic                                               $59.99  \n",
       "178     Oathbreaker, Last Hope of the Breaking Storm               $50.76  \n",
       "82      Nirvana                                                    $44.10  \n",
       "145     Fiery Glass Crusader                                       $41.22  \n",
       "103     Singed Scalpel                                             $34.80  "
      ]
     },
     "execution_count": 10,
     "metadata": {},
     "output_type": "execute_result"
    }
   ],
   "source": [
    "#using popItems saved, sorting based on total purchase value in descending order \n",
    "#formatted and displayed \n",
    "mostProfit = popItems.sort_values('Total Purchase Value', ascending = 0)\n",
    "mostProfit.iloc[:,1:3] = mostProfit.iloc[:,1:3].applymap('${:.2f}'.format)\n",
    "mostProfit.head(5)"
   ]
  },
  {
   "cell_type": "code",
   "execution_count": null,
   "metadata": {},
   "outputs": [],
   "source": []
  }
 ],
 "metadata": {
  "anaconda-cloud": {},
  "kernel_info": {
   "name": "python3"
  },
  "kernelspec": {
   "display_name": "Python 3",
   "language": "python",
   "name": "python3"
  },
  "language_info": {
   "codemirror_mode": {
    "name": "ipython",
    "version": 3
   },
   "file_extension": ".py",
   "mimetype": "text/x-python",
   "name": "python",
   "nbconvert_exporter": "python",
   "pygments_lexer": "ipython3",
   "version": "3.8.5"
  },
  "latex_envs": {
   "LaTeX_envs_menu_present": true,
   "autoclose": false,
   "autocomplete": true,
   "bibliofile": "biblio.bib",
   "cite_by": "apalike",
   "current_citInitial": 1,
   "eqLabelWithNumbers": true,
   "eqNumInitial": 1,
   "hotkeys": {
    "equation": "Ctrl-E",
    "itemize": "Ctrl-I"
   },
   "labels_anchors": false,
   "latex_user_defs": false,
   "report_style_numbering": false,
   "user_envs_cfg": false
  },
  "nteract": {
   "version": "0.2.0"
  }
 },
 "nbformat": 4,
 "nbformat_minor": 2
}
